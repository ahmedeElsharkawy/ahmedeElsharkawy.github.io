{
  "nbformat": 4,
  "nbformat_minor": 0,
  "metadata": {
    "colab": {
      "name": "classAct-ml1-8nov.ipynb",
      "provenance": [],
      "authorship_tag": "ABX9TyNCBwOzkZhED67CwWFk7fX4",
      "include_colab_link": true
    },
    "kernelspec": {
      "name": "python3",
      "display_name": "Python 3"
    }
  },
  "cells": [
    {
      "cell_type": "markdown",
      "metadata": {
        "id": "view-in-github",
        "colab_type": "text"
      },
      "source": [
        "<a href=\"https://colab.research.google.com/github/ahmedeElsharkawy/ahmedeElsharkawy.github.io/blob/master/classAct_ml1_8nov.ipynb\" target=\"_parent\"><img src=\"https://colab.research.google.com/assets/colab-badge.svg\" alt=\"Open In Colab\"/></a>"
      ]
    },
    {
      "cell_type": "code",
      "metadata": {
        "id": "aR4BzT3rawgO"
      },
      "source": [
        "import pandas as pd\n",
        "import numpy as np\n",
        "import matplotlib.pyplot as plt"
      ],
      "execution_count": 1,
      "outputs": []
    },
    {
      "cell_type": "code",
      "metadata": {
        "id": "3n5Kx92XbBCo"
      },
      "source": [
        "# load the libraries required for data processing\n",
        "import pandas as pd\n",
        "import numpy as np\n",
        "import matplotlib.pyplot as plt\n"
      ],
      "execution_count": 2,
      "outputs": []
    },
    {
      "cell_type": "code",
      "metadata": {
        "id": "zU5O-PYjbBJP",
        "colab": {
          "base_uri": "https://localhost:8080/"
        },
        "outputId": "8df2ed39-db80-488a-c19d-8d38ec6a3f90"
      },
      "source": [
        "HTrain = pd.read_csv(\"https://storage.googleapis.com/dimensionless/ML_with_Python/Chapter%203%20Linear%20Regression/housing_train.csv\")\n",
        "HTrain.shape\n"
      ],
      "execution_count": 3,
      "outputs": [
        {
          "output_type": "execute_result",
          "data": {
            "text/plain": [
              "(16512, 9)"
            ]
          },
          "metadata": {
            "tags": []
          },
          "execution_count": 3
        }
      ]
    },
    {
      "cell_type": "code",
      "metadata": {
        "id": "NDzICqjIbBNZ",
        "colab": {
          "base_uri": "https://localhost:8080/",
          "height": 204
        },
        "outputId": "4e0ec348-5b84-4637-8c28-8b0559f801fc"
      },
      "source": [
        "HTrain.head()"
      ],
      "execution_count": 4,
      "outputs": [
        {
          "output_type": "execute_result",
          "data": {
            "text/html": [
              "<div>\n",
              "<style scoped>\n",
              "    .dataframe tbody tr th:only-of-type {\n",
              "        vertical-align: middle;\n",
              "    }\n",
              "\n",
              "    .dataframe tbody tr th {\n",
              "        vertical-align: top;\n",
              "    }\n",
              "\n",
              "    .dataframe thead th {\n",
              "        text-align: right;\n",
              "    }\n",
              "</style>\n",
              "<table border=\"1\" class=\"dataframe\">\n",
              "  <thead>\n",
              "    <tr style=\"text-align: right;\">\n",
              "      <th></th>\n",
              "      <th>longitude</th>\n",
              "      <th>latitude</th>\n",
              "      <th>housing_median_age</th>\n",
              "      <th>total_rooms</th>\n",
              "      <th>total_bedrooms</th>\n",
              "      <th>population</th>\n",
              "      <th>households</th>\n",
              "      <th>median_income</th>\n",
              "      <th>median_house_value</th>\n",
              "    </tr>\n",
              "  </thead>\n",
              "  <tbody>\n",
              "    <tr>\n",
              "      <th>0</th>\n",
              "      <td>1.267645</td>\n",
              "      <td>-1.367976</td>\n",
              "      <td>0.346478</td>\n",
              "      <td>0.224718</td>\n",
              "      <td>0.214986</td>\n",
              "      <td>0.772251</td>\n",
              "      <td>0.322924</td>\n",
              "      <td>-0.321654</td>\n",
              "      <td>103000.0</td>\n",
              "    </tr>\n",
              "    <tr>\n",
              "      <th>1</th>\n",
              "      <td>0.703627</td>\n",
              "      <td>-0.871699</td>\n",
              "      <td>1.617807</td>\n",
              "      <td>0.342065</td>\n",
              "      <td>0.596500</td>\n",
              "      <td>-0.098440</td>\n",
              "      <td>0.670799</td>\n",
              "      <td>-0.030620</td>\n",
              "      <td>382100.0</td>\n",
              "    </tr>\n",
              "    <tr>\n",
              "      <th>2</th>\n",
              "      <td>-0.454356</td>\n",
              "      <td>-0.455012</td>\n",
              "      <td>-1.957806</td>\n",
              "      <td>-0.338639</td>\n",
              "      <td>-0.490815</td>\n",
              "      <td>-0.450778</td>\n",
              "      <td>-0.427755</td>\n",
              "      <td>0.150349</td>\n",
              "      <td>172600.0</td>\n",
              "    </tr>\n",
              "    <tr>\n",
              "      <th>3</th>\n",
              "      <td>1.227714</td>\n",
              "      <td>-1.377340</td>\n",
              "      <td>0.584852</td>\n",
              "      <td>-0.556832</td>\n",
              "      <td>-0.404974</td>\n",
              "      <td>-0.006602</td>\n",
              "      <td>-0.378059</td>\n",
              "      <td>-1.014947</td>\n",
              "      <td>93400.0</td>\n",
              "    </tr>\n",
              "    <tr>\n",
              "      <th>4</th>\n",
              "      <td>-0.114948</td>\n",
              "      <td>0.537543</td>\n",
              "      <td>1.141059</td>\n",
              "      <td>-0.116322</td>\n",
              "      <td>-0.252369</td>\n",
              "      <td>-0.486983</td>\n",
              "      <td>-0.312669</td>\n",
              "      <td>-0.166583</td>\n",
              "      <td>96500.0</td>\n",
              "    </tr>\n",
              "  </tbody>\n",
              "</table>\n",
              "</div>"
            ],
            "text/plain": [
              "   longitude  latitude  ...  median_income  median_house_value\n",
              "0   1.267645 -1.367976  ...      -0.321654            103000.0\n",
              "1   0.703627 -0.871699  ...      -0.030620            382100.0\n",
              "2  -0.454356 -0.455012  ...       0.150349            172600.0\n",
              "3   1.227714 -1.377340  ...      -1.014947             93400.0\n",
              "4  -0.114948  0.537543  ...      -0.166583             96500.0\n",
              "\n",
              "[5 rows x 9 columns]"
            ]
          },
          "metadata": {
            "tags": []
          },
          "execution_count": 4
        }
      ]
    },
    {
      "cell_type": "code",
      "metadata": {
        "id": "RUNMr9k5bBQg",
        "colab": {
          "base_uri": "https://localhost:8080/"
        },
        "outputId": "51ba8612-fbb3-436a-8c69-81d2cbfae8f3"
      },
      "source": [
        "HTrain.columns"
      ],
      "execution_count": 5,
      "outputs": [
        {
          "output_type": "execute_result",
          "data": {
            "text/plain": [
              "Index(['longitude', 'latitude', 'housing_median_age', 'total_rooms',\n",
              "       'total_bedrooms', 'population', 'households', 'median_income',\n",
              "       'median_house_value'],\n",
              "      dtype='object')"
            ]
          },
          "metadata": {
            "tags": []
          },
          "execution_count": 5
        }
      ]
    },
    {
      "cell_type": "code",
      "metadata": {
        "id": "CkrUwHtdc127",
        "colab": {
          "base_uri": "https://localhost:8080/"
        },
        "outputId": "378934ef-be81-487d-b3b6-5007466fdc43"
      },
      "source": [
        "HTrain.isnull().sum()"
      ],
      "execution_count": 6,
      "outputs": [
        {
          "output_type": "execute_result",
          "data": {
            "text/plain": [
              "longitude             0\n",
              "latitude              0\n",
              "housing_median_age    0\n",
              "total_rooms           0\n",
              "total_bedrooms        0\n",
              "population            0\n",
              "households            0\n",
              "median_income         0\n",
              "median_house_value    0\n",
              "dtype: int64"
            ]
          },
          "metadata": {
            "tags": []
          },
          "execution_count": 6
        }
      ]
    },
    {
      "cell_type": "code",
      "metadata": {
        "id": "73m7EhTOc2Bi",
        "colab": {
          "base_uri": "https://localhost:8080/",
          "height": 318
        },
        "outputId": "41295ae3-2b6f-400b-f781-61bddf94416f"
      },
      "source": [
        "HTrain.describe()"
      ],
      "execution_count": 7,
      "outputs": [
        {
          "output_type": "execute_result",
          "data": {
            "text/html": [
              "<div>\n",
              "<style scoped>\n",
              "    .dataframe tbody tr th:only-of-type {\n",
              "        vertical-align: middle;\n",
              "    }\n",
              "\n",
              "    .dataframe tbody tr th {\n",
              "        vertical-align: top;\n",
              "    }\n",
              "\n",
              "    .dataframe thead th {\n",
              "        text-align: right;\n",
              "    }\n",
              "</style>\n",
              "<table border=\"1\" class=\"dataframe\">\n",
              "  <thead>\n",
              "    <tr style=\"text-align: right;\">\n",
              "      <th></th>\n",
              "      <th>longitude</th>\n",
              "      <th>latitude</th>\n",
              "      <th>housing_median_age</th>\n",
              "      <th>total_rooms</th>\n",
              "      <th>total_bedrooms</th>\n",
              "      <th>population</th>\n",
              "      <th>households</th>\n",
              "      <th>median_income</th>\n",
              "      <th>median_house_value</th>\n",
              "    </tr>\n",
              "  </thead>\n",
              "  <tbody>\n",
              "    <tr>\n",
              "      <th>count</th>\n",
              "      <td>16512.000000</td>\n",
              "      <td>16512.000000</td>\n",
              "      <td>16512.000000</td>\n",
              "      <td>16512.000000</td>\n",
              "      <td>16512.000000</td>\n",
              "      <td>16512.000000</td>\n",
              "      <td>16512.000000</td>\n",
              "      <td>16512.000000</td>\n",
              "      <td>16512.000000</td>\n",
              "    </tr>\n",
              "    <tr>\n",
              "      <th>mean</th>\n",
              "      <td>-0.006282</td>\n",
              "      <td>0.005285</td>\n",
              "      <td>-0.002479</td>\n",
              "      <td>0.002861</td>\n",
              "      <td>0.003953</td>\n",
              "      <td>0.000862</td>\n",
              "      <td>0.001170</td>\n",
              "      <td>0.005308</td>\n",
              "      <td>207194.693738</td>\n",
              "    </tr>\n",
              "    <tr>\n",
              "      <th>std</th>\n",
              "      <td>1.001083</td>\n",
              "      <td>1.000358</td>\n",
              "      <td>1.001370</td>\n",
              "      <td>0.996830</td>\n",
              "      <td>0.999107</td>\n",
              "      <td>1.004081</td>\n",
              "      <td>0.996462</td>\n",
              "      <td>1.002378</td>\n",
              "      <td>115622.626448</td>\n",
              "    </tr>\n",
              "    <tr>\n",
              "      <th>min</th>\n",
              "      <td>-2.385992</td>\n",
              "      <td>-1.442886</td>\n",
              "      <td>-2.196180</td>\n",
              "      <td>-1.207283</td>\n",
              "      <td>-1.277688</td>\n",
              "      <td>-1.256123</td>\n",
              "      <td>-1.303984</td>\n",
              "      <td>-1.774299</td>\n",
              "      <td>14999.000000</td>\n",
              "    </tr>\n",
              "    <tr>\n",
              "      <th>25%</th>\n",
              "      <td>-1.118200</td>\n",
              "      <td>-0.796789</td>\n",
              "      <td>-0.845393</td>\n",
              "      <td>-0.541705</td>\n",
              "      <td>-0.572483</td>\n",
              "      <td>-0.562043</td>\n",
              "      <td>-0.574229</td>\n",
              "      <td>-0.686382</td>\n",
              "      <td>119800.000000</td>\n",
              "    </tr>\n",
              "    <tr>\n",
              "      <th>50%</th>\n",
              "      <td>0.528931</td>\n",
              "      <td>-0.642287</td>\n",
              "      <td>0.028646</td>\n",
              "      <td>-0.232294</td>\n",
              "      <td>-0.238062</td>\n",
              "      <td>-0.228249</td>\n",
              "      <td>-0.234201</td>\n",
              "      <td>-0.171005</td>\n",
              "      <td>179850.000000</td>\n",
              "    </tr>\n",
              "    <tr>\n",
              "      <th>75%</th>\n",
              "      <td>0.778496</td>\n",
              "      <td>0.977638</td>\n",
              "      <td>0.664310</td>\n",
              "      <td>0.240303</td>\n",
              "      <td>0.262675</td>\n",
              "      <td>0.265378</td>\n",
              "      <td>0.278458</td>\n",
              "      <td>0.475058</td>\n",
              "      <td>265125.000000</td>\n",
              "    </tr>\n",
              "    <tr>\n",
              "      <th>max</th>\n",
              "      <td>2.625280</td>\n",
              "      <td>2.958068</td>\n",
              "      <td>1.856182</td>\n",
              "      <td>16.815580</td>\n",
              "      <td>14.087789</td>\n",
              "      <td>30.250330</td>\n",
              "      <td>14.601520</td>\n",
              "      <td>5.858286</td>\n",
              "      <td>500001.000000</td>\n",
              "    </tr>\n",
              "  </tbody>\n",
              "</table>\n",
              "</div>"
            ],
            "text/plain": [
              "          longitude      latitude  ...  median_income  median_house_value\n",
              "count  16512.000000  16512.000000  ...   16512.000000        16512.000000\n",
              "mean      -0.006282      0.005285  ...       0.005308       207194.693738\n",
              "std        1.001083      1.000358  ...       1.002378       115622.626448\n",
              "min       -2.385992     -1.442886  ...      -1.774299        14999.000000\n",
              "25%       -1.118200     -0.796789  ...      -0.686382       119800.000000\n",
              "50%        0.528931     -0.642287  ...      -0.171005       179850.000000\n",
              "75%        0.778496      0.977638  ...       0.475058       265125.000000\n",
              "max        2.625280      2.958068  ...       5.858286       500001.000000\n",
              "\n",
              "[8 rows x 9 columns]"
            ]
          },
          "metadata": {
            "tags": []
          },
          "execution_count": 7
        }
      ]
    },
    {
      "cell_type": "code",
      "metadata": {
        "id": "O7nKff1_c2Fc",
        "colab": {
          "base_uri": "https://localhost:8080/",
          "height": 313
        },
        "outputId": "1ec8c724-5605-47b9-c11e-88cae997aee2"
      },
      "source": [
        "plt.scatter(HTrain['median_income'],HTrain['median_house_value'])\n",
        "plt.xlabel('Median Income')\n",
        "plt.ylabel('Median House Price')\n",
        "plt.title('correlation between median Income and Median Value')"
      ],
      "execution_count": 8,
      "outputs": [
        {
          "output_type": "execute_result",
          "data": {
            "text/plain": [
              "Text(0.5, 1.0, 'correlation between median Income and Median Value')"
            ]
          },
          "metadata": {
            "tags": []
          },
          "execution_count": 8
        },
        {
          "output_type": "display_data",
          "data": {
            "image/png": "[encoded data removed]",
            "text/plain": [
              "<Figure size 432x288 with 1 Axes>"
            ]
          },
          "metadata": {
            "tags": [],
            "needs_background": "light"
          }
        }
      ]
    },
    {
      "cell_type": "code",
      "metadata": {
        "id": "caJvUNLvc2Jf",
        "colab": {
          "base_uri": "https://localhost:8080/"
        },
        "outputId": "af601987-0052-48bc-9bde-43bde1a32d79"
      },
      "source": [
        "HTrain['median_income'].corr(HTrain['median_house_value'])\n"
      ],
      "execution_count": 9,
      "outputs": [
        {
          "output_type": "execute_result",
          "data": {
            "text/plain": [
              "0.6906466061467708"
            ]
          },
          "metadata": {
            "tags": []
          },
          "execution_count": 9
        }
      ]
    },
    {
      "cell_type": "code",
      "metadata": {
        "id": "HtKH--YEc2PW"
      },
      "source": [
        "from sklearn.linear_model import LinearRegression\n",
        "from sklearn.metrics import mean_squared_error\n"
      ],
      "execution_count": 10,
      "outputs": []
    },
    {
      "cell_type": "code",
      "metadata": {
        "id": "5tIh2UGNc2ah"
      },
      "source": [
        "lin_reg=LinearRegression()"
      ],
      "execution_count": 11,
      "outputs": []
    },
    {
      "cell_type": "code",
      "metadata": {
        "id": "Ry5HDw35c2X3",
        "colab": {
          "base_uri": "https://localhost:8080/"
        },
        "outputId": "c8da37ab-3baf-46e7-f84b-178be52da52f"
      },
      "source": [
        "# lin_reg.fit(,HTrain['median_house_value'])\n",
        "a=HTrain[['median_income']]\n",
        "b=HTrain[['median_house_value']]\n",
        "lin_reg.fit(a,b)"
      ],
      "execution_count": 12,
      "outputs": [
        {
          "output_type": "execute_result",
          "data": {
            "text/plain": [
              "LinearRegression(copy_X=True, fit_intercept=True, n_jobs=None, normalize=False)"
            ]
          },
          "metadata": {
            "tags": []
          },
          "execution_count": 12
        }
      ]
    },
    {
      "cell_type": "code",
      "metadata": {
        "id": "itWBPtw7c2U7",
        "colab": {
          "base_uri": "https://localhost:8080/"
        },
        "outputId": "3f83b90f-e9c1-4dd7-f7fb-a0cac1d28556"
      },
      "source": [
        "lin_reg.coef_"
      ],
      "execution_count": 13,
      "outputs": [
        {
          "output_type": "execute_result",
          "data": {
            "text/plain": [
              "array([[79664.90785833]])"
            ]
          },
          "metadata": {
            "tags": []
          },
          "execution_count": 13
        }
      ]
    },
    {
      "cell_type": "code",
      "metadata": {
        "id": "QptkzoHzc2Ta",
        "colab": {
          "base_uri": "https://localhost:8080/"
        },
        "outputId": "72caeb33-bc0d-45c4-c249-ccd84d3bcd48"
      },
      "source": [
        "lin_reg.intercept_"
      ],
      "execution_count": 14,
      "outputs": [
        {
          "output_type": "execute_result",
          "data": {
            "text/plain": [
              "array([206771.86405798])"
            ]
          },
          "metadata": {
            "tags": []
          },
          "execution_count": 14
        }
      ]
    },
    {
      "cell_type": "code",
      "metadata": {
        "id": "EGy_WXmPc2Ng",
        "colab": {
          "base_uri": "https://localhost:8080/"
        },
        "outputId": "02c18fa0-3867-4362-9b50-d44ee2fc9127"
      },
      "source": [
        "lin_reg.score(HTrain[['median_income']],HTrain[['median_house_value']])\n"
      ],
      "execution_count": 15,
      "outputs": [
        {
          "output_type": "execute_result",
          "data": {
            "text/plain": [
              "0.47699273458205255"
            ]
          },
          "metadata": {
            "tags": []
          },
          "execution_count": 15
        }
      ]
    },
    {
      "cell_type": "code",
      "metadata": {
        "id": "QPu_ODT9rt6L",
        "colab": {
          "base_uri": "https://localhost:8080/"
        },
        "outputId": "144e1efb-d575-45ba-fe9b-0200cf523975"
      },
      "source": [
        "y_pred_train = lin_reg.predict(HTrain[['median_income']]) #Predict the values on the Train Set \n",
        "y_pred_train[:5] #The first 5 predicted values/y-cap\n"
      ],
      "execution_count": 16,
      "outputs": [
        {
          "output_type": "execute_result",
          "data": {
            "text/plain": [
              "array([[181147.30465315],\n",
              "       [204332.52998299],\n",
              "       [218749.38740458],\n",
              "       [125916.23161656],\n",
              "       [193501.01668457]])"
            ]
          },
          "metadata": {
            "tags": []
          },
          "execution_count": 16
        }
      ]
    },
    {
      "cell_type": "code",
      "metadata": {
        "id": "rlv7QQvEruAP"
      },
      "source": [
        ""
      ],
      "execution_count": 16,
      "outputs": []
    },
    {
      "cell_type": "code",
      "metadata": {
        "id": "hIQhWTW1ruDk"
      },
      "source": [
        "lin_rmse=np.sqrt(mean_squared_error(HTrain['median_house_value'],y_pred_train))"
      ],
      "execution_count": 17,
      "outputs": []
    },
    {
      "cell_type": "code",
      "metadata": {
        "id": "WGFkZstLruJq",
        "colab": {
          "base_uri": "https://localhost:8080/",
          "height": 313
        },
        "outputId": "46513939-5dc1-4815-b158-119aae3eea69"
      },
      "source": [
        "plt.scatter(HTrain[['median_income']],HTrain['median_house_value'])\n",
        "plt.plot(HTrain[['median_income']],y_pred_train,'r') #'r' - Red color line\n",
        "plt.axis([-2,6,0,550000]) #range on the x-axis & y-axis\n",
        "plt.xlabel('Median Income')\n",
        "plt.ylabel('Median House Price')\n",
        "plt.title('Linear Regression on median_income ~ median_house_value')\n"
      ],
      "execution_count": 18,
      "outputs": [
        {
          "output_type": "execute_result",
          "data": {
            "text/plain": [
              "Text(0.5, 1.0, 'Linear Regression on median_income ~ median_house_value')"
            ]
          },
          "metadata": {
            "tags": []
          },
          "execution_count": 18
        },
        {
          "output_type": "display_data",
          "data": {
            "image/png": "[encoded data removed]",
            "text/plain": [
              "<Figure size 432x288 with 1 Axes>"
            ]
          },
          "metadata": {
            "tags": [],
            "needs_background": "light"
          }
        }
      ]
    },
    {
      "cell_type": "code",
      "metadata": {
        "id": "j1-9PXG-ruUi"
      },
      "source": [
        "from sklearn.linear_model import SGDRegressor\n"
      ],
      "execution_count": 19,
      "outputs": []
    },
    {
      "cell_type": "code",
      "metadata": {
        "id": "PYgbQK8MruSc"
      },
      "source": [
        "gdeg=SGDRegressor()"
      ],
      "execution_count": 20,
      "outputs": []
    },
    {
      "cell_type": "code",
      "metadata": {
        "id": "mQVqddOPruQb",
        "colab": {
          "base_uri": "https://localhost:8080/"
        },
        "outputId": "21e842a0-e280-4473-8796-7769839972e9"
      },
      "source": [
        "a=HTrain[['median_income']]\n",
        "b=HTrain['median_house_value']\n",
        "gdeg.fit(a,b)"
      ],
      "execution_count": 21,
      "outputs": [
        {
          "output_type": "execute_result",
          "data": {
            "text/plain": [
              "SGDRegressor(alpha=0.0001, average=False, early_stopping=False, epsilon=0.1,\n",
              "             eta0=0.01, fit_intercept=True, l1_ratio=0.15,\n",
              "             learning_rate='invscaling', loss='squared_loss', max_iter=1000,\n",
              "             n_iter_no_change=5, penalty='l2', power_t=0.25, random_state=None,\n",
              "             shuffle=True, tol=0.001, validation_fraction=0.1, verbose=0,\n",
              "             warm_start=False)"
            ]
          },
          "metadata": {
            "tags": []
          },
          "execution_count": 21
        }
      ]
    },
    {
      "cell_type": "code",
      "metadata": {
        "id": "dGK73oYLruOD",
        "colab": {
          "base_uri": "https://localhost:8080/"
        },
        "outputId": "e5e331e9-8cbf-4cac-dbd4-ec305e6f9804"
      },
      "source": [
        "gdeg.intercept_"
      ],
      "execution_count": 22,
      "outputs": [
        {
          "output_type": "execute_result",
          "data": {
            "text/plain": [
              "array([205668.76846917])"
            ]
          },
          "metadata": {
            "tags": []
          },
          "execution_count": 22
        }
      ]
    },
    {
      "cell_type": "code",
      "metadata": {
        "id": "Vb7of1bgruHW",
        "colab": {
          "base_uri": "https://localhost:8080/"
        },
        "outputId": "305247cd-b352-4438-d76e-936d6351b6e5"
      },
      "source": [
        "gdeg.coef_"
      ],
      "execution_count": 23,
      "outputs": [
        {
          "output_type": "execute_result",
          "data": {
            "text/plain": [
              "array([79250.10306116])"
            ]
          },
          "metadata": {
            "tags": []
          },
          "execution_count": 23
        }
      ]
    },
    {
      "cell_type": "code",
      "metadata": {
        "id": "yDgEqX36bBUa",
        "colab": {
          "base_uri": "https://localhost:8080/"
        },
        "outputId": "9fd67afe-fd53-4976-fa8d-bb2f41263571"
      },
      "source": [
        "gdeg.score(a,b)"
      ],
      "execution_count": 24,
      "outputs": [
        {
          "output_type": "execute_result",
          "data": {
            "text/plain": [
              "0.47688841257398046"
            ]
          },
          "metadata": {
            "tags": []
          },
          "execution_count": 24
        }
      ]
    },
    {
      "cell_type": "code",
      "metadata": {
        "id": "5gTDq-I_yHoE"
      },
      "source": [
        "y_pred_gd=gdeg.predict(a)"
      ],
      "execution_count": 25,
      "outputs": []
    },
    {
      "cell_type": "code",
      "metadata": {
        "id": "CiMDZPIfyHsb",
        "colab": {
          "base_uri": "https://localhost:8080/",
          "height": 313
        },
        "outputId": "89687268-c4fc-4787-b2fb-eb223fe48779"
      },
      "source": [
        "plt.scatter(HTrain[['median_income']],HTrain['median_house_value'])\n",
        "plt.plot(HTrain[['median_income']],y_pred_gd,'r')\n",
        "plt.axis([-2,6,0,550000])\n",
        "plt.xlabel('Median Income')\n",
        "plt.ylabel('Median House Price')\n",
        "plt.title('Best fit using Gradient Descent')\n"
      ],
      "execution_count": 26,
      "outputs": [
        {
          "output_type": "execute_result",
          "data": {
            "text/plain": [
              "Text(0.5, 1.0, 'Best fit using Gradient Descent')"
            ]
          },
          "metadata": {
            "tags": []
          },
          "execution_count": 26
        },
        {
          "output_type": "display_data",
          "data": {
            "image/png": "[encoded data removed]",
            "text/plain": [
              "<Figure size 432x288 with 1 Axes>"
            ]
          },
          "metadata": {
            "tags": [],
            "needs_background": "light"
          }
        }
      ]
    },
    {
      "cell_type": "code",
      "metadata": {
        "id": "sgShra_8yHwJ"
      },
      "source": [
        ""
      ],
      "execution_count": 26,
      "outputs": []
    },
    {
      "cell_type": "markdown",
      "metadata": {
        "id": "wZor2rnbc6MO"
      },
      "source": [
        "## multiple regression model"
      ]
    },
    {
      "cell_type": "code",
      "metadata": {
        "id": "wsc-UMQoyH3H"
      },
      "source": [
        "model_all=LinearRegression()"
      ],
      "execution_count": 29,
      "outputs": []
    },
    {
      "cell_type": "code",
      "metadata": {
        "id": "WwopTC0uyH1W",
        "colab": {
          "base_uri": "https://localhost:8080/",
          "height": 224
        },
        "outputId": "b5999b44-4e3b-4af7-953e-8130d7cf4a20"
      },
      "source": [
        "HTrain.head()"
      ],
      "execution_count": 28,
      "outputs": [
        {
          "output_type": "execute_result",
          "data": {
            "text/html": [
              "<div>\n",
              "<style scoped>\n",
              "    .dataframe tbody tr th:only-of-type {\n",
              "        vertical-align: middle;\n",
              "    }\n",
              "\n",
              "    .dataframe tbody tr th {\n",
              "        vertical-align: top;\n",
              "    }\n",
              "\n",
              "    .dataframe thead th {\n",
              "        text-align: right;\n",
              "    }\n",
              "</style>\n",
              "<table border=\"1\" class=\"dataframe\">\n",
              "  <thead>\n",
              "    <tr style=\"text-align: right;\">\n",
              "      <th></th>\n",
              "      <th>longitude</th>\n",
              "      <th>latitude</th>\n",
              "      <th>housing_median_age</th>\n",
              "      <th>total_rooms</th>\n",
              "      <th>total_bedrooms</th>\n",
              "      <th>population</th>\n",
              "      <th>households</th>\n",
              "      <th>median_income</th>\n",
              "      <th>median_house_value</th>\n",
              "    </tr>\n",
              "  </thead>\n",
              "  <tbody>\n",
              "    <tr>\n",
              "      <th>0</th>\n",
              "      <td>1.267645</td>\n",
              "      <td>-1.367976</td>\n",
              "      <td>0.346478</td>\n",
              "      <td>0.224718</td>\n",
              "      <td>0.214986</td>\n",
              "      <td>0.772251</td>\n",
              "      <td>0.322924</td>\n",
              "      <td>-0.321654</td>\n",
              "      <td>103000.0</td>\n",
              "    </tr>\n",
              "    <tr>\n",
              "      <th>1</th>\n",
              "      <td>0.703627</td>\n",
              "      <td>-0.871699</td>\n",
              "      <td>1.617807</td>\n",
              "      <td>0.342065</td>\n",
              "      <td>0.596500</td>\n",
              "      <td>-0.098440</td>\n",
              "      <td>0.670799</td>\n",
              "      <td>-0.030620</td>\n",
              "      <td>382100.0</td>\n",
              "    </tr>\n",
              "    <tr>\n",
              "      <th>2</th>\n",
              "      <td>-0.454356</td>\n",
              "      <td>-0.455012</td>\n",
              "      <td>-1.957806</td>\n",
              "      <td>-0.338639</td>\n",
              "      <td>-0.490815</td>\n",
              "      <td>-0.450778</td>\n",
              "      <td>-0.427755</td>\n",
              "      <td>0.150349</td>\n",
              "      <td>172600.0</td>\n",
              "    </tr>\n",
              "    <tr>\n",
              "      <th>3</th>\n",
              "      <td>1.227714</td>\n",
              "      <td>-1.377340</td>\n",
              "      <td>0.584852</td>\n",
              "      <td>-0.556832</td>\n",
              "      <td>-0.404974</td>\n",
              "      <td>-0.006602</td>\n",
              "      <td>-0.378059</td>\n",
              "      <td>-1.014947</td>\n",
              "      <td>93400.0</td>\n",
              "    </tr>\n",
              "    <tr>\n",
              "      <th>4</th>\n",
              "      <td>-0.114948</td>\n",
              "      <td>0.537543</td>\n",
              "      <td>1.141059</td>\n",
              "      <td>-0.116322</td>\n",
              "      <td>-0.252369</td>\n",
              "      <td>-0.486983</td>\n",
              "      <td>-0.312669</td>\n",
              "      <td>-0.166583</td>\n",
              "      <td>96500.0</td>\n",
              "    </tr>\n",
              "  </tbody>\n",
              "</table>\n",
              "</div>"
            ],
            "text/plain": [
              "   longitude  latitude  ...  median_income  median_house_value\n",
              "0   1.267645 -1.367976  ...      -0.321654            103000.0\n",
              "1   0.703627 -0.871699  ...      -0.030620            382100.0\n",
              "2  -0.454356 -0.455012  ...       0.150349            172600.0\n",
              "3   1.227714 -1.377340  ...      -1.014947             93400.0\n",
              "4  -0.114948  0.537543  ...      -0.166583             96500.0\n",
              "\n",
              "[5 rows x 9 columns]"
            ]
          },
          "metadata": {
            "tags": []
          },
          "execution_count": 28
        }
      ]
    },
    {
      "cell_type": "code",
      "metadata": {
        "colab": {
          "base_uri": "https://localhost:8080/",
          "height": 224
        },
        "id": "HMevwqh5dqQ7",
        "outputId": "95065370-c5d4-40c5-8d29-9757a9ade4aa"
      },
      "source": [
        "x_train=HTrain.drop('median_house_value',axis=1)\n",
        "x_train.head()"
      ],
      "execution_count": 33,
      "outputs": [
        {
          "output_type": "execute_result",
          "data": {
            "text/html": [
              "<div>\n",
              "<style scoped>\n",
              "    .dataframe tbody tr th:only-of-type {\n",
              "        vertical-align: middle;\n",
              "    }\n",
              "\n",
              "    .dataframe tbody tr th {\n",
              "        vertical-align: top;\n",
              "    }\n",
              "\n",
              "    .dataframe thead th {\n",
              "        text-align: right;\n",
              "    }\n",
              "</style>\n",
              "<table border=\"1\" class=\"dataframe\">\n",
              "  <thead>\n",
              "    <tr style=\"text-align: right;\">\n",
              "      <th></th>\n",
              "      <th>longitude</th>\n",
              "      <th>latitude</th>\n",
              "      <th>housing_median_age</th>\n",
              "      <th>total_rooms</th>\n",
              "      <th>total_bedrooms</th>\n",
              "      <th>population</th>\n",
              "      <th>households</th>\n",
              "      <th>median_income</th>\n",
              "    </tr>\n",
              "  </thead>\n",
              "  <tbody>\n",
              "    <tr>\n",
              "      <th>0</th>\n",
              "      <td>1.267645</td>\n",
              "      <td>-1.367976</td>\n",
              "      <td>0.346478</td>\n",
              "      <td>0.224718</td>\n",
              "      <td>0.214986</td>\n",
              "      <td>0.772251</td>\n",
              "      <td>0.322924</td>\n",
              "      <td>-0.321654</td>\n",
              "    </tr>\n",
              "    <tr>\n",
              "      <th>1</th>\n",
              "      <td>0.703627</td>\n",
              "      <td>-0.871699</td>\n",
              "      <td>1.617807</td>\n",
              "      <td>0.342065</td>\n",
              "      <td>0.596500</td>\n",
              "      <td>-0.098440</td>\n",
              "      <td>0.670799</td>\n",
              "      <td>-0.030620</td>\n",
              "    </tr>\n",
              "    <tr>\n",
              "      <th>2</th>\n",
              "      <td>-0.454356</td>\n",
              "      <td>-0.455012</td>\n",
              "      <td>-1.957806</td>\n",
              "      <td>-0.338639</td>\n",
              "      <td>-0.490815</td>\n",
              "      <td>-0.450778</td>\n",
              "      <td>-0.427755</td>\n",
              "      <td>0.150349</td>\n",
              "    </tr>\n",
              "    <tr>\n",
              "      <th>3</th>\n",
              "      <td>1.227714</td>\n",
              "      <td>-1.377340</td>\n",
              "      <td>0.584852</td>\n",
              "      <td>-0.556832</td>\n",
              "      <td>-0.404974</td>\n",
              "      <td>-0.006602</td>\n",
              "      <td>-0.378059</td>\n",
              "      <td>-1.014947</td>\n",
              "    </tr>\n",
              "    <tr>\n",
              "      <th>4</th>\n",
              "      <td>-0.114948</td>\n",
              "      <td>0.537543</td>\n",
              "      <td>1.141059</td>\n",
              "      <td>-0.116322</td>\n",
              "      <td>-0.252369</td>\n",
              "      <td>-0.486983</td>\n",
              "      <td>-0.312669</td>\n",
              "      <td>-0.166583</td>\n",
              "    </tr>\n",
              "  </tbody>\n",
              "</table>\n",
              "</div>"
            ],
            "text/plain": [
              "   longitude  latitude  ...  households  median_income\n",
              "0   1.267645 -1.367976  ...    0.322924      -0.321654\n",
              "1   0.703627 -0.871699  ...    0.670799      -0.030620\n",
              "2  -0.454356 -0.455012  ...   -0.427755       0.150349\n",
              "3   1.227714 -1.377340  ...   -0.378059      -1.014947\n",
              "4  -0.114948  0.537543  ...   -0.312669      -0.166583\n",
              "\n",
              "[5 rows x 8 columns]"
            ]
          },
          "metadata": {
            "tags": []
          },
          "execution_count": 33
        }
      ]
    },
    {
      "cell_type": "code",
      "metadata": {
        "colab": {
          "base_uri": "https://localhost:8080/"
        },
        "id": "8JIzuIfcdqU7",
        "outputId": "7f08c245-e81d-4103-d897-5d882001be18"
      },
      "source": [
        "y_train=HTrain['median_house_value']\n",
        "y_train.head()"
      ],
      "execution_count": 34,
      "outputs": [
        {
          "output_type": "execute_result",
          "data": {
            "text/plain": [
              "0    103000.0\n",
              "1    382100.0\n",
              "2    172600.0\n",
              "3     93400.0\n",
              "4     96500.0\n",
              "Name: median_house_value, dtype: float64"
            ]
          },
          "metadata": {
            "tags": []
          },
          "execution_count": 34
        }
      ]
    },
    {
      "cell_type": "code",
      "metadata": {
        "colab": {
          "base_uri": "https://localhost:8080/"
        },
        "id": "wMardTFddqYX",
        "outputId": "fe37a2dd-8093-4531-c3e0-0fd4f0f2e18f"
      },
      "source": [
        "model_all.fit(x_train,y_train)"
      ],
      "execution_count": 35,
      "outputs": [
        {
          "output_type": "execute_result",
          "data": {
            "text/plain": [
              "LinearRegression(copy_X=True, fit_intercept=True, n_jobs=None, normalize=False)"
            ]
          },
          "metadata": {
            "tags": []
          },
          "execution_count": 35
        }
      ]
    },
    {
      "cell_type": "code",
      "metadata": {
        "colab": {
          "base_uri": "https://localhost:8080/"
        },
        "id": "wDCzIszzdqfD",
        "outputId": "4208e281-3441-4277-f2b8-bc2fb42718ad"
      },
      "source": [
        "model_all.coef_"
      ],
      "execution_count": 36,
      "outputs": [
        {
          "output_type": "execute_result",
          "data": {
            "text/plain": [
              "array([-85413.28005747, -90669.13624699,  14885.95835764, -17862.58294108,\n",
              "        48757.37209674, -43589.91735845,  17717.71485854,  77013.87535191])"
            ]
          },
          "metadata": {
            "tags": []
          },
          "execution_count": 36
        }
      ]
    },
    {
      "cell_type": "code",
      "metadata": {
        "colab": {
          "base_uri": "https://localhost:8080/"
        },
        "id": "0Y74qTUsdqlE",
        "outputId": "db8cfce5-5b37-4ff8-befd-9b7ad5bf61a4"
      },
      "source": [
        "model_all.intercept_"
      ],
      "execution_count": 38,
      "outputs": [
        {
          "output_type": "execute_result",
          "data": {
            "text/plain": [
              "206640.6370318638"
            ]
          },
          "metadata": {
            "tags": []
          },
          "execution_count": 38
        }
      ]
    },
    {
      "cell_type": "code",
      "metadata": {
        "colab": {
          "base_uri": "https://localhost:8080/"
        },
        "id": "m4FLmlK0dqrV",
        "outputId": "458dc17f-2cbd-457c-e5e0-47975cdace5d"
      },
      "source": [
        "model_all.score(x_train,y_train)"
      ],
      "execution_count": 39,
      "outputs": [
        {
          "output_type": "execute_result",
          "data": {
            "text/plain": [
              "0.6400947924305292"
            ]
          },
          "metadata": {
            "tags": []
          },
          "execution_count": 39
        }
      ]
    },
    {
      "cell_type": "code",
      "metadata": {
        "id": "LiNolSjadq0P"
      },
      "source": [
        "y_pred_all=model_all.predict(x_train)"
      ],
      "execution_count": 40,
      "outputs": []
    },
    {
      "cell_type": "code",
      "metadata": {
        "colab": {
          "base_uri": "https://localhost:8080/"
        },
        "id": "1tZH849jdq5n",
        "outputId": "85416b2d-041a-4ad0-bbe5-995e122ba545"
      },
      "source": [
        "rmse_all=np.sqrt(mean_squared_error(y_train,y_pred_all))\n",
        "rmse_all"
      ],
      "execution_count": 41,
      "outputs": [
        {
          "output_type": "execute_result",
          "data": {
            "text/plain": [
              "69362.34135238081"
            ]
          },
          "metadata": {
            "tags": []
          },
          "execution_count": 41
        }
      ]
    },
    {
      "cell_type": "code",
      "metadata": {
        "colab": {
          "base_uri": "https://localhost:8080/",
          "height": 349
        },
        "id": "4pmIT-uJdrAO",
        "outputId": "dbfa3a8d-5004-4fbb-e94c-b015bf8c23ce"
      },
      "source": [
        "HTrain.corr()"
      ],
      "execution_count": 42,
      "outputs": [
        {
          "output_type": "execute_result",
          "data": {
            "text/html": [
              "<div>\n",
              "<style scoped>\n",
              "    .dataframe tbody tr th:only-of-type {\n",
              "        vertical-align: middle;\n",
              "    }\n",
              "\n",
              "    .dataframe tbody tr th {\n",
              "        vertical-align: top;\n",
              "    }\n",
              "\n",
              "    .dataframe thead th {\n",
              "        text-align: right;\n",
              "    }\n",
              "</style>\n",
              "<table border=\"1\" class=\"dataframe\">\n",
              "  <thead>\n",
              "    <tr style=\"text-align: right;\">\n",
              "      <th></th>\n",
              "      <th>longitude</th>\n",
              "      <th>latitude</th>\n",
              "      <th>housing_median_age</th>\n",
              "      <th>total_rooms</th>\n",
              "      <th>total_bedrooms</th>\n",
              "      <th>population</th>\n",
              "      <th>households</th>\n",
              "      <th>median_income</th>\n",
              "      <th>median_house_value</th>\n",
              "    </tr>\n",
              "  </thead>\n",
              "  <tbody>\n",
              "    <tr>\n",
              "      <th>longitude</th>\n",
              "      <td>1.000000</td>\n",
              "      <td>-0.924485</td>\n",
              "      <td>-0.101818</td>\n",
              "      <td>0.038676</td>\n",
              "      <td>0.063064</td>\n",
              "      <td>0.094276</td>\n",
              "      <td>0.049306</td>\n",
              "      <td>-0.017040</td>\n",
              "      <td>-0.046349</td>\n",
              "    </tr>\n",
              "    <tr>\n",
              "      <th>latitude</th>\n",
              "      <td>-0.924485</td>\n",
              "      <td>1.000000</td>\n",
              "      <td>0.005296</td>\n",
              "      <td>-0.029224</td>\n",
              "      <td>-0.059998</td>\n",
              "      <td>-0.102499</td>\n",
              "      <td>-0.064061</td>\n",
              "      <td>-0.076571</td>\n",
              "      <td>-0.142983</td>\n",
              "    </tr>\n",
              "    <tr>\n",
              "      <th>housing_median_age</th>\n",
              "      <td>-0.101818</td>\n",
              "      <td>0.005296</td>\n",
              "      <td>1.000000</td>\n",
              "      <td>-0.360922</td>\n",
              "      <td>-0.320624</td>\n",
              "      <td>-0.292283</td>\n",
              "      <td>-0.302796</td>\n",
              "      <td>-0.121711</td>\n",
              "      <td>0.103706</td>\n",
              "    </tr>\n",
              "    <tr>\n",
              "      <th>total_rooms</th>\n",
              "      <td>0.038676</td>\n",
              "      <td>-0.029224</td>\n",
              "      <td>-0.360922</td>\n",
              "      <td>1.000000</td>\n",
              "      <td>0.930489</td>\n",
              "      <td>0.857936</td>\n",
              "      <td>0.920482</td>\n",
              "      <td>0.198268</td>\n",
              "      <td>0.133989</td>\n",
              "    </tr>\n",
              "    <tr>\n",
              "      <th>total_bedrooms</th>\n",
              "      <td>0.063064</td>\n",
              "      <td>-0.059998</td>\n",
              "      <td>-0.320624</td>\n",
              "      <td>0.930489</td>\n",
              "      <td>1.000000</td>\n",
              "      <td>0.878932</td>\n",
              "      <td>0.980255</td>\n",
              "      <td>-0.009141</td>\n",
              "      <td>0.047980</td>\n",
              "    </tr>\n",
              "    <tr>\n",
              "      <th>population</th>\n",
              "      <td>0.094276</td>\n",
              "      <td>-0.102499</td>\n",
              "      <td>-0.292283</td>\n",
              "      <td>0.857936</td>\n",
              "      <td>0.878932</td>\n",
              "      <td>1.000000</td>\n",
              "      <td>0.907452</td>\n",
              "      <td>0.004122</td>\n",
              "      <td>-0.026032</td>\n",
              "    </tr>\n",
              "    <tr>\n",
              "      <th>households</th>\n",
              "      <td>0.049306</td>\n",
              "      <td>-0.064061</td>\n",
              "      <td>-0.302796</td>\n",
              "      <td>0.920482</td>\n",
              "      <td>0.980255</td>\n",
              "      <td>0.907452</td>\n",
              "      <td>1.000000</td>\n",
              "      <td>0.012776</td>\n",
              "      <td>0.063714</td>\n",
              "    </tr>\n",
              "    <tr>\n",
              "      <th>median_income</th>\n",
              "      <td>-0.017040</td>\n",
              "      <td>-0.076571</td>\n",
              "      <td>-0.121711</td>\n",
              "      <td>0.198268</td>\n",
              "      <td>-0.009141</td>\n",
              "      <td>0.004122</td>\n",
              "      <td>0.012776</td>\n",
              "      <td>1.000000</td>\n",
              "      <td>0.690647</td>\n",
              "    </tr>\n",
              "    <tr>\n",
              "      <th>median_house_value</th>\n",
              "      <td>-0.046349</td>\n",
              "      <td>-0.142983</td>\n",
              "      <td>0.103706</td>\n",
              "      <td>0.133989</td>\n",
              "      <td>0.047980</td>\n",
              "      <td>-0.026032</td>\n",
              "      <td>0.063714</td>\n",
              "      <td>0.690647</td>\n",
              "      <td>1.000000</td>\n",
              "    </tr>\n",
              "  </tbody>\n",
              "</table>\n",
              "</div>"
            ],
            "text/plain": [
              "                    longitude  latitude  ...  median_income  median_house_value\n",
              "longitude            1.000000 -0.924485  ...      -0.017040           -0.046349\n",
              "latitude            -0.924485  1.000000  ...      -0.076571           -0.142983\n",
              "housing_median_age  -0.101818  0.005296  ...      -0.121711            0.103706\n",
              "total_rooms          0.038676 -0.029224  ...       0.198268            0.133989\n",
              "total_bedrooms       0.063064 -0.059998  ...      -0.009141            0.047980\n",
              "population           0.094276 -0.102499  ...       0.004122           -0.026032\n",
              "households           0.049306 -0.064061  ...       0.012776            0.063714\n",
              "median_income       -0.017040 -0.076571  ...       1.000000            0.690647\n",
              "median_house_value  -0.046349 -0.142983  ...       0.690647            1.000000\n",
              "\n",
              "[9 rows x 9 columns]"
            ]
          },
          "metadata": {
            "tags": []
          },
          "execution_count": 42
        }
      ]
    },
    {
      "cell_type": "code",
      "metadata": {
        "id": "JY2kIjS-hUs2"
      },
      "source": [
        ""
      ],
      "execution_count": null,
      "outputs": []
    },
    {
      "cell_type": "markdown",
      "metadata": {
        "id": "XHqFNyF-jZZw"
      },
      "source": [
        "## model with longitude"
      ]
    },
    {
      "cell_type": "code",
      "metadata": {
        "id": "EZYpfxBghU2H"
      },
      "source": [
        "model1=LinearRegression()"
      ],
      "execution_count": 43,
      "outputs": []
    },
    {
      "cell_type": "code",
      "metadata": {
        "colab": {
          "base_uri": "https://localhost:8080/"
        },
        "id": "UMeRaYqchU6x",
        "outputId": "5171c8ee-b0f3-4182-ed64-8c2cfa98eaf4"
      },
      "source": [
        "model1.fit(x_train[['longitude']],y_train)"
      ],
      "execution_count": 44,
      "outputs": [
        {
          "output_type": "execute_result",
          "data": {
            "text/plain": [
              "LinearRegression(copy_X=True, fit_intercept=True, n_jobs=None, normalize=False)"
            ]
          },
          "metadata": {
            "tags": []
          },
          "execution_count": 44
        }
      ]
    },
    {
      "cell_type": "code",
      "metadata": {
        "colab": {
          "base_uri": "https://localhost:8080/"
        },
        "id": "bLt8z5rihVBm",
        "outputId": "abd11f1a-2ae8-4776-e91b-f50ef0d665e6"
      },
      "source": [
        "model1.intercept_"
      ],
      "execution_count": 45,
      "outputs": [
        {
          "output_type": "execute_result",
          "data": {
            "text/plain": [
              "207161.06474598034"
            ]
          },
          "metadata": {
            "tags": []
          },
          "execution_count": 45
        }
      ]
    },
    {
      "cell_type": "code",
      "metadata": {
        "colab": {
          "base_uri": "https://localhost:8080/"
        },
        "id": "pNtPddg_hVJH",
        "outputId": "79647654-0a2e-4061-e000-170c9528a1d3"
      },
      "source": [
        "model1.coef_"
      ],
      "execution_count": 46,
      "outputs": [
        {
          "output_type": "execute_result",
          "data": {
            "text/plain": [
              "array([-5353.18054039])"
            ]
          },
          "metadata": {
            "tags": []
          },
          "execution_count": 46
        }
      ]
    },
    {
      "cell_type": "code",
      "metadata": {
        "colab": {
          "base_uri": "https://localhost:8080/"
        },
        "id": "ZRPjH4L1hVOX",
        "outputId": "bc34cacd-5acf-46d6-fedc-90d4fe34e81e"
      },
      "source": [
        "model1.score(x_train[['longitude']],y_train)"
      ],
      "execution_count": 48,
      "outputs": [
        {
          "output_type": "execute_result",
          "data": {
            "text/plain": [
              "0.0021482189561506937"
            ]
          },
          "metadata": {
            "tags": []
          },
          "execution_count": 48
        }
      ]
    },
    {
      "cell_type": "code",
      "metadata": {
        "id": "xtUbat9MhVGr"
      },
      "source": [
        ""
      ],
      "execution_count": null,
      "outputs": []
    },
    {
      "cell_type": "markdown",
      "metadata": {
        "id": "-U4YdU06kKlJ"
      },
      "source": [
        "## add 2"
      ]
    },
    {
      "cell_type": "code",
      "metadata": {
        "colab": {
          "base_uri": "https://localhost:8080/"
        },
        "id": "fIaF3Hu_hU_F",
        "outputId": "aa87cd77-9706-4c6a-85fe-76b16b31f911"
      },
      "source": [
        "model1.fit(x_train[['longitude','latitude']],y_train)"
      ],
      "execution_count": 49,
      "outputs": [
        {
          "output_type": "execute_result",
          "data": {
            "text/plain": [
              "LinearRegression(copy_X=True, fit_intercept=True, n_jobs=None, normalize=False)"
            ]
          },
          "metadata": {
            "tags": []
          },
          "execution_count": 49
        }
      ]
    },
    {
      "cell_type": "code",
      "metadata": {
        "colab": {
          "base_uri": "https://localhost:8080/"
        },
        "id": "CSDz4dI1dq9x",
        "outputId": "3cb15ab3-b58a-4476-bd8f-8ef5006ea69a"
      },
      "source": [
        "model1.coef_"
      ],
      "execution_count": 50,
      "outputs": [
        {
          "output_type": "execute_result",
          "data": {
            "text/plain": [
              "array([-141889.12431787, -147795.69758896])"
            ]
          },
          "metadata": {
            "tags": []
          },
          "execution_count": 50
        }
      ]
    },
    {
      "cell_type": "code",
      "metadata": {
        "colab": {
          "base_uri": "https://localhost:8080/"
        },
        "id": "KRJJxZQvdqxq",
        "outputId": "ef334427-bf6f-4f83-8c09-442172f4c3cf"
      },
      "source": [
        "model1.intercept_"
      ],
      "execution_count": 51,
      "outputs": [
        {
          "output_type": "execute_result",
          "data": {
            "text/plain": [
              "207084.4075166661"
            ]
          },
          "metadata": {
            "tags": []
          },
          "execution_count": 51
        }
      ]
    },
    {
      "cell_type": "code",
      "metadata": {
        "colab": {
          "base_uri": "https://localhost:8080/"
        },
        "id": "4iDmqpb6dqwM",
        "outputId": "f85b7427-46f2-4dac-bc19-361c30656c35"
      },
      "source": [
        "model1.score(x_train[['longitude','latitude']],y_train)"
      ],
      "execution_count": 52,
      "outputs": [
        {
          "output_type": "execute_result",
          "data": {
            "text/plain": [
              "0.23977500440286728"
            ]
          },
          "metadata": {
            "tags": []
          },
          "execution_count": 52
        }
      ]
    },
    {
      "cell_type": "code",
      "metadata": {
        "colab": {
          "base_uri": "https://localhost:8080/",
          "height": 282
        },
        "id": "vbS5rcLkdqpQ",
        "outputId": "976ccbab-52a0-4af4-e5bc-8f7c04916ceb"
      },
      "source": [
        "\n",
        "plt.scatter(x=HTrain['longitude'],y=HTrain['latitude'],c=HTrain['median_house_value'])"
      ],
      "execution_count": 53,
      "outputs": [
        {
          "output_type": "execute_result",
          "data": {
            "text/plain": [
              "<matplotlib.collections.PathCollection at 0x7fa93339a6d8>"
            ]
          },
          "metadata": {
            "tags": []
          },
          "execution_count": 53
        },
        {
          "output_type": "display_data",
          "data": {
            "image/png": "[encoded data removed]",
            "text/plain": [
              "<Figure size 432x288 with 1 Axes>"
            ]
          },
          "metadata": {
            "tags": [],
            "needs_background": "light"
          }
        }
      ]
    },
    {
      "cell_type": "markdown",
      "metadata": {
        "id": "Fz2bIybRkvTj"
      },
      "source": [
        "## adding 3"
      ]
    },
    {
      "cell_type": "markdown",
      "metadata": {
        "id": "_UwDzBfCl-uo"
      },
      "source": [
        ""
      ]
    },
    {
      "cell_type": "code",
      "metadata": {
        "colab": {
          "base_uri": "https://localhost:8080/"
        },
        "id": "--wNUD6GmBUG",
        "outputId": "4e5c4fc5-361a-4597-cca5-c1f4c935ca35"
      },
      "source": [
        "model1.fit(x_train[['longitude','latitude','housing_median_age']],y_train)"
      ],
      "execution_count": 56,
      "outputs": [
        {
          "output_type": "execute_result",
          "data": {
            "text/plain": [
              "LinearRegression(copy_X=True, fit_intercept=True, n_jobs=None, normalize=False)"
            ]
          },
          "metadata": {
            "tags": []
          },
          "execution_count": 56
        }
      ]
    },
    {
      "cell_type": "code",
      "metadata": {
        "colab": {
          "base_uri": "https://localhost:8080/"
        },
        "id": "ibkJzfNPkxg-",
        "outputId": "d082ddfd-070f-498f-db59-b94d943c73a8"
      },
      "source": [
        "model1.coef_"
      ],
      "execution_count": 57,
      "outputs": [
        {
          "output_type": "execute_result",
          "data": {
            "text/plain": [
              "array([-143091.95032316, -148898.94074323,   -1803.0265797 ])"
            ]
          },
          "metadata": {
            "tags": []
          },
          "execution_count": 57
        }
      ]
    },
    {
      "cell_type": "code",
      "metadata": {
        "colab": {
          "base_uri": "https://localhost:8080/"
        },
        "id": "680V_WGEkxlt",
        "outputId": "3ed7b727-e22e-4c37-834d-0c56274e8ca7"
      },
      "source": [
        "model1.intercept_"
      ],
      "execution_count": 58,
      "outputs": [
        {
          "output_type": "execute_result",
          "data": {
            "text/plain": [
              "207078.21161327386"
            ]
          },
          "metadata": {
            "tags": []
          },
          "execution_count": 58
        }
      ]
    },
    {
      "cell_type": "code",
      "metadata": {
        "colab": {
          "base_uri": "https://localhost:8080/"
        },
        "id": "SL_07-utkxpd",
        "outputId": "981b87b4-739f-471a-c566-dbf65cceec34"
      },
      "source": [
        "model1.score(x_train[['longitude','latitude','housing_median_age']],y_train)"
      ],
      "execution_count": 59,
      "outputs": [
        {
          "output_type": "execute_result",
          "data": {
            "text/plain": [
              "0.24000307748194905"
            ]
          },
          "metadata": {
            "tags": []
          },
          "execution_count": 59
        }
      ]
    },
    {
      "cell_type": "code",
      "metadata": {
        "colab": {
          "base_uri": "https://localhost:8080/"
        },
        "id": "6CuwCEfzkxwi",
        "outputId": "41ab6495-e1ea-4ec5-faab-ae2e3e52555f"
      },
      "source": [
        "model1.fit(x_train[['longitude','latitude','housing_median_age','total_rooms']],y_train)\n",
        "print(\"Coefficients : \",model1.coef_)\n",
        "print(\"Intercept : \", model1.intercept_)\n",
        "model1.score(x_train[['longitude','latitude','housing_median_age','total_rooms']],y_train)\n"
      ],
      "execution_count": 61,
      "outputs": [
        {
          "output_type": "stream",
          "text": [
            "Coefficients :  [-139918.19489232 -145458.44039198    5180.33149439   18588.32272379]\n",
            "Intercept :  207044.09690195063\n"
          ],
          "name": "stdout"
        },
        {
          "output_type": "execute_result",
          "data": {
            "text/plain": [
              "0.26221824117424786"
            ]
          },
          "metadata": {
            "tags": []
          },
          "execution_count": 61
        }
      ]
    },
    {
      "cell_type": "code",
      "metadata": {
        "colab": {
          "base_uri": "https://localhost:8080/"
        },
        "id": "N6TqDlTMkx9F",
        "outputId": "a5833a89-862f-4c4b-b172-750baa2a9eea"
      },
      "source": [
        "model1.fit(x_train[['longitude','latitude','housing_median_age','total_rooms','total_bedrooms']],y_train)\n",
        "print(\"Coefficients : \",model1.coef_)\n",
        "print(\"Intercept : \", model1.intercept_)\n",
        "model1.score(x_train[['longitude','latitude','housing_median_age','total_rooms','total_bedrooms']],y_train)\n"
      ],
      "execution_count": 62,
      "outputs": [
        {
          "output_type": "stream",
          "text": [
            "Coefficients :  [-140821.79695263 -148740.880461      6374.50953443   88723.50645406\n",
            "  -74804.09155293]\n",
            "Intercept :  207153.79553383638\n"
          ],
          "name": "stdout"
        },
        {
          "output_type": "execute_result",
          "data": {
            "text/plain": [
              "0.31771834380202746"
            ]
          },
          "metadata": {
            "tags": []
          },
          "execution_count": 62
        }
      ]
    },
    {
      "cell_type": "code",
      "metadata": {
        "colab": {
          "base_uri": "https://localhost:8080/"
        },
        "id": "4iJlzh0ikyEn",
        "outputId": "833bc4e2-5425-4eda-9783-15d22bcf3661"
      },
      "source": [
        "model1.fit(x_train[['longitude','latitude','housing_median_age','total_rooms','total_bedrooms','population']],y_train)\n",
        "print(\"Coefficients : \",model1.coef_)\n",
        "print(\"Intercept : \", model1.intercept_)\n",
        "model1.score(x_train[['longitude','latitude','housing_median_age','total_rooms','total_bedrooms','population']],y_train)\n"
      ],
      "execution_count": 64,
      "outputs": [
        {
          "output_type": "stream",
          "text": [
            "Coefficients :  [-144389.62331851 -155699.63277662    6583.01551464  108502.58659167\n",
            "  -38029.63257305  -62562.8816911 ]\n",
            "Intercept :  207020.6342050893\n"
          ],
          "name": "stdout"
        },
        {
          "output_type": "execute_result",
          "data": {
            "text/plain": [
              "0.3801845000742564"
            ]
          },
          "metadata": {
            "tags": []
          },
          "execution_count": 64
        }
      ]
    },
    {
      "cell_type": "code",
      "metadata": {
        "colab": {
          "base_uri": "https://localhost:8080/"
        },
        "id": "BkupJAD9kyBW",
        "outputId": "e6d165ce-9686-4c95-c636-dfee83fe2616"
      },
      "source": [
        "model1.fit(x_train[['longitude','latitude','housing_median_age','total_rooms','total_bedrooms','population','households']],y_train)\n",
        "print(\"Coefficients : \",model1.coef_)\n",
        "print(\"Intercept : \", model1.intercept_)\n",
        "model1.score(x_train[['longitude','latitude','housing_median_age','total_rooms','total_bedrooms','population','households']],y_train)\n"
      ],
      "execution_count": 65,
      "outputs": [
        {
          "output_type": "stream",
          "text": [
            "Coefficients :  [-139798.10182907 -151645.85741153    6391.26182068  108158.05257741\n",
            "  -72441.0594132   -71027.870383     43062.25888446]\n",
            "Intercept :  207121.53176075255\n"
          ],
          "name": "stdout"
        },
        {
          "output_type": "execute_result",
          "data": {
            "text/plain": [
              "0.3840491803301824"
            ]
          },
          "metadata": {
            "tags": []
          },
          "execution_count": 65
        }
      ]
    },
    {
      "cell_type": "code",
      "metadata": {
        "colab": {
          "base_uri": "https://localhost:8080/"
        },
        "id": "wT07pIZ0kx6l",
        "outputId": "3116138a-e2db-4f86-acd6-b9c1f09a1d34"
      },
      "source": [
        "model1.fit(x_train[['longitude','latitude','housing_median_age','total_rooms','total_bedrooms','population','households','median_income']],y_train)\n",
        "print(\"Coefficients : \",model1.coef_)\n",
        "print(\"Intercept : \", model1.intercept_)\n",
        "model1.score(x_train[['longitude','latitude','housing_median_age','total_rooms','total_bedrooms','population','households','median_income']],y_train)\n"
      ],
      "execution_count": 66,
      "outputs": [
        {
          "output_type": "stream",
          "text": [
            "Coefficients :  [-85413.28005747 -90669.13624699  14885.95835764 -17862.58294108\n",
            "  48757.37209674 -43589.91735845  17717.71485854  77013.87535191]\n",
            "Intercept :  206640.6370318638\n"
          ],
          "name": "stdout"
        },
        {
          "output_type": "execute_result",
          "data": {
            "text/plain": [
              "0.6400947924305292"
            ]
          },
          "metadata": {
            "tags": []
          },
          "execution_count": 66
        }
      ]
    },
    {
      "cell_type": "code",
      "metadata": {
        "id": "uJqUKaQbkx3T"
      },
      "source": [
        "from sklearn.feature_selection import SelectKBest, f_regression\n"
      ],
      "execution_count": 67,
      "outputs": []
    },
    {
      "cell_type": "code",
      "metadata": {
        "id": "nGCtvGaTkx07"
      },
      "source": [
        "X_train=x_train\n",
        "select_feature = SelectKBest(f_regression, k = 6).fit(x_train, y_train) #Selecting best 6 features on the basis f_regression score\n"
      ],
      "execution_count": 71,
      "outputs": []
    },
    {
      "cell_type": "code",
      "metadata": {
        "colab": {
          "base_uri": "https://localhost:8080/"
        },
        "id": "GnWt5df1r0Kh",
        "outputId": "5f021cdb-15d6-49fb-eb4f-e6130f0005b4"
      },
      "source": [
        "select_feature.scores_ #Score for each variable/This is not R square value\n"
      ],
      "execution_count": 73,
      "outputs": [
        {
          "output_type": "execute_result",
          "data": {
            "text/plain": [
              "array([3.55434501e+01, 3.44579030e+02, 1.79495552e+02, 3.01823325e+02,\n",
              "       3.80956840e+01, 1.11961694e+01, 6.72961323e+01, 1.50574391e+04])"
            ]
          },
          "metadata": {
            "tags": []
          },
          "execution_count": 73
        }
      ]
    },
    {
      "cell_type": "code",
      "metadata": {
        "colab": {
          "base_uri": "https://localhost:8080/",
          "height": 298
        },
        "id": "8tTyn317kxuJ",
        "outputId": "02f351f8-6f96-4f48-8d0e-5f3c5130be3c"
      },
      "source": [
        "selected_features_df = pd.DataFrame({'Feature':list(X_train.columns),\n",
        "                                     'P_values':select_feature.pvalues_})\n",
        "selected_features_df.sort_values(by='P_values', ascending=True)\n"
      ],
      "execution_count": 72,
      "outputs": [
        {
          "output_type": "execute_result",
          "data": {
            "text/html": [
              "<div>\n",
              "<style scoped>\n",
              "    .dataframe tbody tr th:only-of-type {\n",
              "        vertical-align: middle;\n",
              "    }\n",
              "\n",
              "    .dataframe tbody tr th {\n",
              "        vertical-align: top;\n",
              "    }\n",
              "\n",
              "    .dataframe thead th {\n",
              "        text-align: right;\n",
              "    }\n",
              "</style>\n",
              "<table border=\"1\" class=\"dataframe\">\n",
              "  <thead>\n",
              "    <tr style=\"text-align: right;\">\n",
              "      <th></th>\n",
              "      <th>Feature</th>\n",
              "      <th>P_values</th>\n",
              "    </tr>\n",
              "  </thead>\n",
              "  <tbody>\n",
              "    <tr>\n",
              "      <th>7</th>\n",
              "      <td>median_income</td>\n",
              "      <td>0.000000e+00</td>\n",
              "    </tr>\n",
              "    <tr>\n",
              "      <th>1</th>\n",
              "      <td>latitude</td>\n",
              "      <td>3.821798e-76</td>\n",
              "    </tr>\n",
              "    <tr>\n",
              "      <th>3</th>\n",
              "      <td>total_rooms</td>\n",
              "      <td>5.203989e-67</td>\n",
              "    </tr>\n",
              "    <tr>\n",
              "      <th>2</th>\n",
              "      <td>housing_median_age</td>\n",
              "      <td>1.019198e-40</td>\n",
              "    </tr>\n",
              "    <tr>\n",
              "      <th>6</th>\n",
              "      <td>households</td>\n",
              "      <td>2.506830e-16</td>\n",
              "    </tr>\n",
              "    <tr>\n",
              "      <th>4</th>\n",
              "      <td>total_bedrooms</td>\n",
              "      <td>6.893182e-10</td>\n",
              "    </tr>\n",
              "    <tr>\n",
              "      <th>0</th>\n",
              "      <td>longitude</td>\n",
              "      <td>2.545051e-09</td>\n",
              "    </tr>\n",
              "    <tr>\n",
              "      <th>5</th>\n",
              "      <td>population</td>\n",
              "      <td>8.214916e-04</td>\n",
              "    </tr>\n",
              "  </tbody>\n",
              "</table>\n",
              "</div>"
            ],
            "text/plain": [
              "              Feature      P_values\n",
              "7       median_income  0.000000e+00\n",
              "1            latitude  3.821798e-76\n",
              "3         total_rooms  5.203989e-67\n",
              "2  housing_median_age  1.019198e-40\n",
              "6          households  2.506830e-16\n",
              "4      total_bedrooms  6.893182e-10\n",
              "0           longitude  2.545051e-09\n",
              "5          population  8.214916e-04"
            ]
          },
          "metadata": {
            "tags": []
          },
          "execution_count": 72
        }
      ]
    },
    {
      "cell_type": "code",
      "metadata": {
        "id": "mQfzgLYCdqdN"
      },
      "source": [
        "#Sequence followed in sklearn ML modeling\n",
        "#fit()\n",
        "#score()\n",
        "#check attributes of the model - coef_ and intercept_\n",
        "#predict()\n",
        "#evaluate the metric (R square/RMSE/MSE for Regression, Accuracy/Sensitivity/Specicity for Classification)\n"
      ],
      "execution_count": null,
      "outputs": []
    },
    {
      "cell_type": "code",
      "metadata": {
        "colab": {
          "base_uri": "https://localhost:8080/"
        },
        "id": "y8WcxVa0tW7L",
        "outputId": "b431f6d7-e3a8-48f0-a603-7e398757a76e"
      },
      "source": [
        "X_train_new = select_feature.transform(X_train) #Selecting the best k (k = 6) features for modeling\n",
        "X_train_new.shape #Dimenision of the new DataFrame\n"
      ],
      "execution_count": 74,
      "outputs": [
        {
          "output_type": "execute_result",
          "data": {
            "text/plain": [
              "(16512, 6)"
            ]
          },
          "metadata": {
            "tags": []
          },
          "execution_count": 74
        }
      ]
    },
    {
      "cell_type": "code",
      "metadata": {
        "id": "exqVXS4rtXHI"
      },
      "source": [
        "model_kbest = model_all.fit(X_train_new,y_train) \n"
      ],
      "execution_count": 75,
      "outputs": []
    },
    {
      "cell_type": "code",
      "metadata": {
        "colab": {
          "base_uri": "https://localhost:8080/"
        },
        "id": "8y3LJzQFtXMx",
        "outputId": "dba3cdb4-42d7-4300-c8d7-7f1c4510a2f4"
      },
      "source": [
        "model_kbest.coef_ #Coefficients\n"
      ],
      "execution_count": 76,
      "outputs": [
        {
          "output_type": "execute_result",
          "data": {
            "text/plain": [
              "array([ -7201.82086955,  24397.45111862, -54757.3570668 ,  63885.16881336,\n",
              "          784.47820083,  93449.65845946])"
            ]
          },
          "metadata": {
            "tags": []
          },
          "execution_count": 76
        }
      ]
    },
    {
      "cell_type": "code",
      "metadata": {
        "colab": {
          "base_uri": "https://localhost:8080/"
        },
        "id": "amPT0nX-tXUE",
        "outputId": "e7ed19a1-fea4-4fda-a7e5-a82bc6c47427"
      },
      "source": [
        "model_kbest.score(X_train_new,y_train) #R square\n"
      ],
      "execution_count": 77,
      "outputs": [
        {
          "output_type": "execute_result",
          "data": {
            "text/plain": [
              "0.5540145192388106"
            ]
          },
          "metadata": {
            "tags": []
          },
          "execution_count": 77
        }
      ]
    },
    {
      "cell_type": "code",
      "metadata": {
        "id": "aThm9SnetXcG"
      },
      "source": [
        "y_pred_kbest = model_kbest.predict(X_train_new) \n"
      ],
      "execution_count": 78,
      "outputs": []
    },
    {
      "cell_type": "code",
      "metadata": {
        "colab": {
          "base_uri": "https://localhost:8080/"
        },
        "id": "RRJj-Ih5tXZ-",
        "outputId": "a1f29202-b434-4cc8-fc9c-5ec689e630b6"
      },
      "source": [
        "lin_rmse_kbest = np.sqrt(mean_squared_error(y_train, y_pred_kbest))\n",
        "lin_rmse_kbest\n"
      ],
      "execution_count": 79,
      "outputs": [
        {
          "output_type": "execute_result",
          "data": {
            "text/plain": [
              "77212.93113565829"
            ]
          },
          "metadata": {
            "tags": []
          },
          "execution_count": 79
        }
      ]
    },
    {
      "cell_type": "code",
      "metadata": {
        "id": "XGj4c-yJtXQ0"
      },
      "source": [
        "from sklearn.feature_selection import RFE #Recursive Feature Elimination\n"
      ],
      "execution_count": 80,
      "outputs": []
    },
    {
      "cell_type": "code",
      "metadata": {
        "id": "xwBhxtPquFA8"
      },
      "source": [
        "rfe = RFE(estimator = model_all, step = 1) #Step = 1 means eliminating one feature at each iteration\n"
      ],
      "execution_count": 81,
      "outputs": []
    },
    {
      "cell_type": "code",
      "metadata": {
        "colab": {
          "base_uri": "https://localhost:8080/"
        },
        "id": "p9DJtzy0uFGq",
        "outputId": "8aa4d35d-2cf7-43d5-935c-60c8daaf4e17"
      },
      "source": [
        "rfe.fit(X_train, y_train) \n"
      ],
      "execution_count": 82,
      "outputs": [
        {
          "output_type": "execute_result",
          "data": {
            "text/plain": [
              "RFE(estimator=LinearRegression(copy_X=True, fit_intercept=True, n_jobs=None,\n",
              "                               normalize=False),\n",
              "    n_features_to_select=None, step=1, verbose=0)"
            ]
          },
          "metadata": {
            "tags": []
          },
          "execution_count": 82
        }
      ]
    },
    {
      "cell_type": "code",
      "metadata": {
        "colab": {
          "base_uri": "https://localhost:8080/"
        },
        "id": "RDvFRaTpuFNW",
        "outputId": "a4d5744f-3c23-49a1-8569-f178d458296a"
      },
      "source": [
        "rfe.ranking_\n"
      ],
      "execution_count": 83,
      "outputs": [
        {
          "output_type": "execute_result",
          "data": {
            "text/plain": [
              "array([1, 1, 5, 3, 1, 2, 4, 1])"
            ]
          },
          "metadata": {
            "tags": []
          },
          "execution_count": 83
        }
      ]
    },
    {
      "cell_type": "code",
      "metadata": {
        "colab": {
          "base_uri": "https://localhost:8080/",
          "height": 298
        },
        "id": "2DV_R4SFuFao",
        "outputId": "411c5346-7990-4af2-ee54-9f7c9d9467d1"
      },
      "source": [
        "selected_rfe_features = pd.DataFrame({'Feature':list(X_train.columns),\n",
        "                                      'Ranking':rfe.ranking_})\n",
        "selected_rfe_features.sort_values(by='Ranking')\n"
      ],
      "execution_count": 84,
      "outputs": [
        {
          "output_type": "execute_result",
          "data": {
            "text/html": [
              "<div>\n",
              "<style scoped>\n",
              "    .dataframe tbody tr th:only-of-type {\n",
              "        vertical-align: middle;\n",
              "    }\n",
              "\n",
              "    .dataframe tbody tr th {\n",
              "        vertical-align: top;\n",
              "    }\n",
              "\n",
              "    .dataframe thead th {\n",
              "        text-align: right;\n",
              "    }\n",
              "</style>\n",
              "<table border=\"1\" class=\"dataframe\">\n",
              "  <thead>\n",
              "    <tr style=\"text-align: right;\">\n",
              "      <th></th>\n",
              "      <th>Feature</th>\n",
              "      <th>Ranking</th>\n",
              "    </tr>\n",
              "  </thead>\n",
              "  <tbody>\n",
              "    <tr>\n",
              "      <th>0</th>\n",
              "      <td>longitude</td>\n",
              "      <td>1</td>\n",
              "    </tr>\n",
              "    <tr>\n",
              "      <th>1</th>\n",
              "      <td>latitude</td>\n",
              "      <td>1</td>\n",
              "    </tr>\n",
              "    <tr>\n",
              "      <th>4</th>\n",
              "      <td>total_bedrooms</td>\n",
              "      <td>1</td>\n",
              "    </tr>\n",
              "    <tr>\n",
              "      <th>7</th>\n",
              "      <td>median_income</td>\n",
              "      <td>1</td>\n",
              "    </tr>\n",
              "    <tr>\n",
              "      <th>5</th>\n",
              "      <td>population</td>\n",
              "      <td>2</td>\n",
              "    </tr>\n",
              "    <tr>\n",
              "      <th>3</th>\n",
              "      <td>total_rooms</td>\n",
              "      <td>3</td>\n",
              "    </tr>\n",
              "    <tr>\n",
              "      <th>6</th>\n",
              "      <td>households</td>\n",
              "      <td>4</td>\n",
              "    </tr>\n",
              "    <tr>\n",
              "      <th>2</th>\n",
              "      <td>housing_median_age</td>\n",
              "      <td>5</td>\n",
              "    </tr>\n",
              "  </tbody>\n",
              "</table>\n",
              "</div>"
            ],
            "text/plain": [
              "              Feature  Ranking\n",
              "0           longitude        1\n",
              "1            latitude        1\n",
              "4      total_bedrooms        1\n",
              "7       median_income        1\n",
              "5          population        2\n",
              "3         total_rooms        3\n",
              "6          households        4\n",
              "2  housing_median_age        5"
            ]
          },
          "metadata": {
            "tags": []
          },
          "execution_count": 84
        }
      ]
    },
    {
      "cell_type": "code",
      "metadata": {
        "id": "IIo-9H-buFou"
      },
      "source": [
        ""
      ],
      "execution_count": null,
      "outputs": []
    },
    {
      "cell_type": "code",
      "metadata": {
        "id": "hmLQJXr3uF0S"
      },
      "source": [
        ""
      ],
      "execution_count": null,
      "outputs": []
    },
    {
      "cell_type": "code",
      "metadata": {
        "id": "OavY5fUsuF-5"
      },
      "source": [
        ""
      ],
      "execution_count": null,
      "outputs": []
    },
    {
      "cell_type": "code",
      "metadata": {
        "id": "JLhNASHtuGD0"
      },
      "source": [
        ""
      ],
      "execution_count": null,
      "outputs": []
    },
    {
      "cell_type": "code",
      "metadata": {
        "id": "Y1RL6qgUuF8-"
      },
      "source": [
        ""
      ],
      "execution_count": null,
      "outputs": []
    },
    {
      "cell_type": "code",
      "metadata": {
        "id": "ut_AXSlauF5N"
      },
      "source": [
        ""
      ],
      "execution_count": null,
      "outputs": []
    },
    {
      "cell_type": "code",
      "metadata": {
        "id": "gEYxX9FeuFxA"
      },
      "source": [
        ""
      ],
      "execution_count": null,
      "outputs": []
    },
    {
      "cell_type": "code",
      "metadata": {
        "id": "sT66-uPkuFuC"
      },
      "source": [
        ""
      ],
      "execution_count": null,
      "outputs": []
    },
    {
      "cell_type": "code",
      "metadata": {
        "id": "2n55SSpbuFmq"
      },
      "source": [
        ""
      ],
      "execution_count": null,
      "outputs": []
    },
    {
      "cell_type": "code",
      "metadata": {
        "id": "winzEngSuFi9"
      },
      "source": [
        ""
      ],
      "execution_count": null,
      "outputs": []
    },
    {
      "cell_type": "code",
      "metadata": {
        "id": "DyUuDLMhuFhR"
      },
      "source": [
        ""
      ],
      "execution_count": null,
      "outputs": []
    },
    {
      "cell_type": "code",
      "metadata": {
        "id": "oRv8oYFruFYT"
      },
      "source": [
        ""
      ],
      "execution_count": null,
      "outputs": []
    },
    {
      "cell_type": "code",
      "metadata": {
        "id": "Mn3HMs3yuFUY"
      },
      "source": [
        ""
      ],
      "execution_count": null,
      "outputs": []
    },
    {
      "cell_type": "code",
      "metadata": {
        "id": "nal9XaXluFRu"
      },
      "source": [
        ""
      ],
      "execution_count": null,
      "outputs": []
    }
  ]
}